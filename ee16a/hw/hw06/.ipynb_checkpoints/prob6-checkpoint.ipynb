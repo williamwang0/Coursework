{
 "cells": [
  {
   "cell_type": "markdown",
   "metadata": {},
   "source": [
    "# EE16A: Homework 6"
   ]
  },
  {
   "cell_type": "markdown",
   "metadata": {},
   "source": [
    "# Circuit Analysis"
   ]
  },
  {
   "cell_type": "code",
   "execution_count": 1,
   "metadata": {},
   "outputs": [],
   "source": [
    "import numpy as np"
   ]
  },
  {
   "cell_type": "markdown",
   "metadata": {},
   "source": [
    "## (a)"
   ]
  },
  {
   "cell_type": "code",
   "execution_count": 8,
   "metadata": {},
   "outputs": [
    {
     "name": "stdout",
     "output_type": "stream",
     "text": [
      "[ 2.16666667  2.          0.16666667  5.          0.66666667 -3.33333333]\n"
     ]
    }
   ],
   "source": [
    "Vs = 5 \n",
    "Is = 2\n",
    "R1 = 2\n",
    "R2 = 2\n",
    "R3 = 4\n",
    "a = np.array([[0, 1, 0, 0, 0, 0],\n",
    "                [1, -1, -1, 0, 0, 0],\n",
    "                [-R1, 0, 0, 1, -1, 0],\n",
    "                [0, -R2, 0, 0, 1, -1],\n",
    "                [0, 0, -R3, 0, 1, 0],\n",
    "                [0, 0, 0, 1, 0, 0]])\n",
    "b = np.array([Is, 0, 0, 0, 0, Vs])\n",
    "print(np.linalg.solve(a, b))"
   ]
  },
  {
   "cell_type": "code",
   "execution_count": null,
   "metadata": {
    "collapsed": true
   },
   "outputs": [],
   "source": [
    "# Solution to part (a) here."
   ]
  },
  {
   "cell_type": "markdown",
   "metadata": {},
   "source": [
    "## (b)"
   ]
  },
  {
   "cell_type": "code",
   "execution_count": null,
   "metadata": {
    "collapsed": true
   },
   "outputs": [],
   "source": [
    "Vs = 5 \n",
    "R1 = 1\n",
    "R2 = 2\n",
    "R3 = 3\n",
    "R4 = 4\n",
    "R5 = 5\n",
    "a = np.array([[1, 1, 0, 1, 0, 0, 0, 0, 0],\n",
    "                            [0, -1, 1, 0, 0, 1, 0, 0, 0],\n",
    "                            [0, 0, 0, -1, 1, -1, 0, 0, 0],\n",
    "                            [0, 0, 0, 0, 0, 0, 1, 0, 0],\n",
    "                            [0, -R1, 0, 0, 0, 0, 1, -1, 0],\n",
    "                            [0, 0, -R2, 0, 0, 0, 0, 1, 0],\n",
    "                            [0, 0, 0, -R3, 0 , 0 , 1 ,0, -1],\n",
    "                            [0 , 0, 0, 0, -R4 , 0 , 0, 0, 1],\n",
    "                            [0, 0, 0, 0, 0, -R5, 0, 1, -1]])\n",
    "b = np.array([0, 0, 0, Vs, 0, 0, 0, 0, 0])\n",
    "print(np.linalg.solve(a, b))"
   ]
  },
  {
   "cell_type": "code",
   "execution_count": null,
   "metadata": {
    "collapsed": true
   },
   "outputs": [],
   "source": [
    "# Solution to part (b) here."
   ]
  }
 ],
 "metadata": {
  "anaconda-cloud": {},
  "kernelspec": {
   "display_name": "Python 3",
   "language": "python",
   "name": "python3"
  },
  "language_info": {
   "codemirror_mode": {
    "name": "ipython",
    "version": 3
   },
   "file_extension": ".py",
   "mimetype": "text/x-python",
   "name": "python",
   "nbconvert_exporter": "python",
   "pygments_lexer": "ipython3",
   "version": "3.7.1"
  },
  "name": "graphs_for_SOE.ipynb"
 },
 "nbformat": 4,
 "nbformat_minor": 1
}
